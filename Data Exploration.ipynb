{
 "cells": [
  {
   "cell_type": "code",
   "execution_count": 1,
   "metadata": {
    "collapsed": false
   },
   "outputs": [],
   "source": [
    "import sys\n",
    "import pickle\n",
    "sys.path.append(\"/home/john/udacity/classes/05-Into_to_Machine_Learning/tools/\")\n",
    "sys.path.append(\"/home/john/udacity/classes/05-Into_to_Machine_Learning/final_project/\")\n",
    "\n",
    "from feature_format import featureFormat, targetFeatureSplit\n",
    "from tester import dump_classifier_and_data\n",
    "from __future__ import division"
   ]
  },
  {
   "cell_type": "markdown",
   "metadata": {},
   "source": [
    "# Load data"
   ]
  },
  {
   "cell_type": "code",
   "execution_count": 2,
   "metadata": {
    "collapsed": false
   },
   "outputs": [],
   "source": [
    "import pickle\n",
    "data_dict = pickle.load(open(\"final_project/final_project_dataset.pkl\", \"rb\") )"
   ]
  },
  {
   "cell_type": "code",
   "execution_count": 3,
   "metadata": {
    "collapsed": false
   },
   "outputs": [
    {
     "data": {
      "text/html": [
       "<div>\n",
       "<table border=\"1\" class=\"dataframe\">\n",
       "  <thead>\n",
       "    <tr style=\"text-align: right;\">\n",
       "      <th></th>\n",
       "      <th>bonus</th>\n",
       "      <th>deferral_payments</th>\n",
       "      <th>deferred_income</th>\n",
       "      <th>director_fees</th>\n",
       "      <th>email_address</th>\n",
       "      <th>exercised_stock_options</th>\n",
       "      <th>expenses</th>\n",
       "      <th>from_messages</th>\n",
       "      <th>from_poi_to_this_person</th>\n",
       "      <th>from_this_person_to_poi</th>\n",
       "      <th>...</th>\n",
       "      <th>long_term_incentive</th>\n",
       "      <th>other</th>\n",
       "      <th>poi</th>\n",
       "      <th>restricted_stock</th>\n",
       "      <th>restricted_stock_deferred</th>\n",
       "      <th>salary</th>\n",
       "      <th>shared_receipt_with_poi</th>\n",
       "      <th>to_messages</th>\n",
       "      <th>total_payments</th>\n",
       "      <th>total_stock_value</th>\n",
       "    </tr>\n",
       "  </thead>\n",
       "  <tbody>\n",
       "    <tr>\n",
       "      <th>ALLEN PHILLIP K</th>\n",
       "      <td>4175000</td>\n",
       "      <td>2869717</td>\n",
       "      <td>-3081055</td>\n",
       "      <td>NaN</td>\n",
       "      <td>phillip.allen@enron.com</td>\n",
       "      <td>1729541</td>\n",
       "      <td>13868</td>\n",
       "      <td>2195</td>\n",
       "      <td>47</td>\n",
       "      <td>65</td>\n",
       "      <td>...</td>\n",
       "      <td>304805</td>\n",
       "      <td>152</td>\n",
       "      <td>False</td>\n",
       "      <td>126027</td>\n",
       "      <td>-126027</td>\n",
       "      <td>201955</td>\n",
       "      <td>1407</td>\n",
       "      <td>2902</td>\n",
       "      <td>4484442</td>\n",
       "      <td>1729541</td>\n",
       "    </tr>\n",
       "    <tr>\n",
       "      <th>BADUM JAMES P</th>\n",
       "      <td>NaN</td>\n",
       "      <td>178980</td>\n",
       "      <td>NaN</td>\n",
       "      <td>NaN</td>\n",
       "      <td>NaN</td>\n",
       "      <td>257817</td>\n",
       "      <td>3486</td>\n",
       "      <td>NaN</td>\n",
       "      <td>NaN</td>\n",
       "      <td>NaN</td>\n",
       "      <td>...</td>\n",
       "      <td>NaN</td>\n",
       "      <td>NaN</td>\n",
       "      <td>False</td>\n",
       "      <td>NaN</td>\n",
       "      <td>NaN</td>\n",
       "      <td>NaN</td>\n",
       "      <td>NaN</td>\n",
       "      <td>NaN</td>\n",
       "      <td>182466</td>\n",
       "      <td>257817</td>\n",
       "    </tr>\n",
       "    <tr>\n",
       "      <th>BANNANTINE JAMES M</th>\n",
       "      <td>NaN</td>\n",
       "      <td>NaN</td>\n",
       "      <td>-5104</td>\n",
       "      <td>NaN</td>\n",
       "      <td>james.bannantine@enron.com</td>\n",
       "      <td>4046157</td>\n",
       "      <td>56301</td>\n",
       "      <td>29</td>\n",
       "      <td>39</td>\n",
       "      <td>0</td>\n",
       "      <td>...</td>\n",
       "      <td>NaN</td>\n",
       "      <td>864523</td>\n",
       "      <td>False</td>\n",
       "      <td>1757552</td>\n",
       "      <td>-560222</td>\n",
       "      <td>477</td>\n",
       "      <td>465</td>\n",
       "      <td>566</td>\n",
       "      <td>916197</td>\n",
       "      <td>5243487</td>\n",
       "    </tr>\n",
       "    <tr>\n",
       "      <th>BAXTER JOHN C</th>\n",
       "      <td>1200000</td>\n",
       "      <td>1295738</td>\n",
       "      <td>-1386055</td>\n",
       "      <td>NaN</td>\n",
       "      <td>NaN</td>\n",
       "      <td>6680544</td>\n",
       "      <td>11200</td>\n",
       "      <td>NaN</td>\n",
       "      <td>NaN</td>\n",
       "      <td>NaN</td>\n",
       "      <td>...</td>\n",
       "      <td>1586055</td>\n",
       "      <td>2660303</td>\n",
       "      <td>False</td>\n",
       "      <td>3942714</td>\n",
       "      <td>NaN</td>\n",
       "      <td>267102</td>\n",
       "      <td>NaN</td>\n",
       "      <td>NaN</td>\n",
       "      <td>5634343</td>\n",
       "      <td>10623258</td>\n",
       "    </tr>\n",
       "    <tr>\n",
       "      <th>BAY FRANKLIN R</th>\n",
       "      <td>400000</td>\n",
       "      <td>260455</td>\n",
       "      <td>-201641</td>\n",
       "      <td>NaN</td>\n",
       "      <td>frank.bay@enron.com</td>\n",
       "      <td>NaN</td>\n",
       "      <td>129142</td>\n",
       "      <td>NaN</td>\n",
       "      <td>NaN</td>\n",
       "      <td>NaN</td>\n",
       "      <td>...</td>\n",
       "      <td>NaN</td>\n",
       "      <td>69</td>\n",
       "      <td>False</td>\n",
       "      <td>145796</td>\n",
       "      <td>-82782</td>\n",
       "      <td>239671</td>\n",
       "      <td>NaN</td>\n",
       "      <td>NaN</td>\n",
       "      <td>827696</td>\n",
       "      <td>63014</td>\n",
       "    </tr>\n",
       "  </tbody>\n",
       "</table>\n",
       "<p>5 rows × 21 columns</p>\n",
       "</div>"
      ],
      "text/plain": [
       "                      bonus  deferral_payments  deferred_income  \\\n",
       "ALLEN PHILLIP K     4175000            2869717         -3081055   \n",
       "BADUM JAMES P           NaN             178980              NaN   \n",
       "BANNANTINE JAMES M      NaN                NaN            -5104   \n",
       "BAXTER JOHN C       1200000            1295738         -1386055   \n",
       "BAY FRANKLIN R       400000             260455          -201641   \n",
       "\n",
       "                    director_fees               email_address  \\\n",
       "ALLEN PHILLIP K               NaN     phillip.allen@enron.com   \n",
       "BADUM JAMES P                 NaN                         NaN   \n",
       "BANNANTINE JAMES M            NaN  james.bannantine@enron.com   \n",
       "BAXTER JOHN C                 NaN                         NaN   \n",
       "BAY FRANKLIN R                NaN         frank.bay@enron.com   \n",
       "\n",
       "                    exercised_stock_options  expenses  from_messages  \\\n",
       "ALLEN PHILLIP K                     1729541     13868           2195   \n",
       "BADUM JAMES P                        257817      3486            NaN   \n",
       "BANNANTINE JAMES M                  4046157     56301             29   \n",
       "BAXTER JOHN C                       6680544     11200            NaN   \n",
       "BAY FRANKLIN R                          NaN    129142            NaN   \n",
       "\n",
       "                    from_poi_to_this_person  from_this_person_to_poi  \\\n",
       "ALLEN PHILLIP K                          47                       65   \n",
       "BADUM JAMES P                           NaN                      NaN   \n",
       "BANNANTINE JAMES M                       39                        0   \n",
       "BAXTER JOHN C                           NaN                      NaN   \n",
       "BAY FRANKLIN R                          NaN                      NaN   \n",
       "\n",
       "                          ...          long_term_incentive    other    poi  \\\n",
       "ALLEN PHILLIP K           ...                       304805      152  False   \n",
       "BADUM JAMES P             ...                          NaN      NaN  False   \n",
       "BANNANTINE JAMES M        ...                          NaN   864523  False   \n",
       "BAXTER JOHN C             ...                      1586055  2660303  False   \n",
       "BAY FRANKLIN R            ...                          NaN       69  False   \n",
       "\n",
       "                   restricted_stock  restricted_stock_deferred  salary  \\\n",
       "ALLEN PHILLIP K              126027                    -126027  201955   \n",
       "BADUM JAMES P                   NaN                        NaN     NaN   \n",
       "BANNANTINE JAMES M          1757552                    -560222     477   \n",
       "BAXTER JOHN C               3942714                        NaN  267102   \n",
       "BAY FRANKLIN R               145796                     -82782  239671   \n",
       "\n",
       "                    shared_receipt_with_poi  to_messages  total_payments  \\\n",
       "ALLEN PHILLIP K                        1407         2902         4484442   \n",
       "BADUM JAMES P                           NaN          NaN          182466   \n",
       "BANNANTINE JAMES M                      465          566          916197   \n",
       "BAXTER JOHN C                           NaN          NaN         5634343   \n",
       "BAY FRANKLIN R                          NaN          NaN          827696   \n",
       "\n",
       "                    total_stock_value  \n",
       "ALLEN PHILLIP K               1729541  \n",
       "BADUM JAMES P                  257817  \n",
       "BANNANTINE JAMES M            5243487  \n",
       "BAXTER JOHN C                10623258  \n",
       "BAY FRANKLIN R                  63014  \n",
       "\n",
       "[5 rows x 21 columns]"
      ]
     },
     "execution_count": 3,
     "metadata": {},
     "output_type": "execute_result"
    }
   ],
   "source": [
    "import pandas as pd\n",
    "df = pd.DataFrame(data_dict).T\n",
    "float_columns = [c for c in df.columns if c not in ['email_address', 'poi']]\n",
    "df[float_columns] = df[float_columns].astype(float)\n",
    "df.head()"
   ]
  },
  {
   "cell_type": "markdown",
   "metadata": {},
   "source": [
    "# Explore"
   ]
  },
  {
   "cell_type": "markdown",
   "metadata": {},
   "source": [
    "## List and Categorize Features"
   ]
  },
  {
   "cell_type": "code",
   "execution_count": 4,
   "metadata": {
    "collapsed": false
   },
   "outputs": [],
   "source": [
    "financial_features = ['salary', 'deferral_payments', 'total_payments',\n",
    "                      'loan_advances', 'bonus', 'restricted_stock_deferred',\n",
    "                      'deferred_income', 'total_stock_value', 'expenses',\n",
    "                      'exercised_stock_options', 'other', 'long_term_incentive',\n",
    "                      'restricted_stock', 'director_fees']\n",
    "\n",
    "email_features = ['to_messages', 'email_address', 'from_poi_to_this_person',\n",
    "                  'from_messages', 'from_this_person_to_poi',\n",
    "                  'shared_receipt_with_poi']"
   ]
  },
  {
   "cell_type": "markdown",
   "metadata": {},
   "source": [
    "## Class Distribution"
   ]
  },
  {
   "cell_type": "code",
   "execution_count": 5,
   "metadata": {
    "collapsed": false
   },
   "outputs": [
    {
     "name": "stdout",
     "output_type": "stream",
     "text": [
      "18 of 146 are POIs\n"
     ]
    }
   ],
   "source": [
    "print(\"{} of {} are POIs\".format(sum(df['poi']), len(df)))"
   ]
  },
  {
   "cell_type": "markdown",
   "metadata": {},
   "source": [
    "## Missing data"
   ]
  },
  {
   "cell_type": "code",
   "execution_count": 6,
   "metadata": {
    "collapsed": false
   },
   "outputs": [
    {
     "name": "stdout",
     "output_type": "stream",
     "text": [
      "Percent Missing\n",
      "-----\n",
      "email_address                0.000000\n",
      "poi                          0.000000\n",
      "total_stock_value            0.136986\n",
      "total_payments               0.143836\n",
      "restricted_stock             0.246575\n",
      "exercised_stock_options      0.301370\n",
      "salary                       0.349315\n",
      "expenses                     0.349315\n",
      "other                        0.363014\n",
      "to_messages                  0.410959\n",
      "shared_receipt_with_poi      0.410959\n",
      "from_messages                0.410959\n",
      "from_poi_to_this_person      0.410959\n",
      "from_this_person_to_poi      0.410959\n",
      "bonus                        0.438356\n",
      "long_term_incentive          0.547945\n",
      "deferred_income              0.664384\n",
      "deferral_payments            0.732877\n",
      "restricted_stock_deferred    0.876712\n",
      "director_fees                0.883562\n",
      "loan_advances                0.972603\n",
      "dtype: float64\n"
     ]
    }
   ],
   "source": [
    "feature_nan = 1-df.count()/len(df)\n",
    "feature_nan = feature_nan.sort_values()\n",
    "print(\"Percent Missing\\n-----\")\n",
    "print(feature_nan.head(30))"
   ]
  },
  {
   "cell_type": "code",
   "execution_count": 7,
   "metadata": {
    "collapsed": false
   },
   "outputs": [
    {
     "name": "stdout",
     "output_type": "stream",
     "text": [
      "Percent of Non-Missing Features per Person\n",
      "-----\n",
      "LOCKHART EUGENE E                0.095238\n",
      "SCRIMSHAW MATTHEW                0.190476\n",
      "WROBEL BRUCE                     0.190476\n",
      "WHALEY DAVID A                   0.190476\n",
      "THE TRAVEL AGENCY IN THE PARK    0.190476\n",
      "WODRASKA JOHN                    0.190476\n",
      "GRAMM WENDY L                    0.190476\n",
      "CHRISTODOULOU DIOMEDES           0.238095\n",
      "CLINE KENNETH W                  0.238095\n",
      "GILLIS JOHN                      0.238095\n",
      "dtype: float64\n"
     ]
    }
   ],
   "source": [
    "people_nan = df.count(axis=1)/len(df.columns)\n",
    "people_nan = people_nan.sort_values()\n",
    "print(\"Percent of Non-Missing Features per Person\\n-----\")\n",
    "print(people_nan.head(10))"
   ]
  },
  {
   "cell_type": "markdown",
   "metadata": {},
   "source": [
    "## Outliers "
   ]
  },
  {
   "cell_type": "code",
   "execution_count": 8,
   "metadata": {
    "collapsed": false
   },
   "outputs": [
    {
     "name": "stdout",
     "output_type": "stream",
     "text": [
      "DELAINEY DAVID W has high 'from_this_person_to_poi' value of 609.0 (z-score of 5.67352642171)\n",
      "KAMINSKI WINCENTY J has high 'from_messages' value of 14368.0 (z-score of 7.47363149225)\n",
      "KEAN STEVEN J has high 'to_messages' value of 12754.0 (z-score of 4.13525979734)\n",
      "LAVORATO JOHN J has high 'from_poi_to_this_person' value of 528.0 (z-score of 5.32431220222)\n",
      "SHAPIRO RICHARD S has high 'to_messages' value of 15149.0 (z-score of 5.06258356331)\n",
      "TOTAL has high 'total_stock_value' value of 434509511.0 (z-score of 10.9794663182)\n",
      "TOTAL has low 'deferred_income' value of -27992891.0 (z-score of -6.67073416501)\n"
     ]
    }
   ],
   "source": [
    "#Perform a simple check to see which rows have outliers, assuming normal distribution\n",
    "zscores = df.apply(lambda row: (row-df.mean())/df.std(), axis=1)\n",
    "for idx, row in zscores.iterrows():\n",
    "    if max(row) >= 4:\n",
    "        col = row.idxmax()\n",
    "        val = row[row.idxmax()]\n",
    "        print(\"{} has high '{}' value of {} (z-score of {})\".format(idx, col, df[col][idx], val))\n",
    "    if min(row) <= -4:\n",
    "        col = row.idxmin()\n",
    "        val = row[row.idxmin()]\n",
    "        print(\"{} has low '{}' value of {} (z-score of {})\".format(idx, col, df[col][idx], val))"
   ]
  },
  {
   "cell_type": "code",
   "execution_count": 9,
   "metadata": {
    "collapsed": false
   },
   "outputs": [
    {
     "name": "stdout",
     "output_type": "stream",
     "text": [
      "DELAINEY DAVID W has high 'from_this_person_to_poi' value of 609.0 (z-score of 5.67352642171)\n",
      "FREVERT MARK A has high 'other' value of 7427621.0 (z-score of 4.98163159998)\n",
      "KAMINSKI WINCENTY J has high 'from_messages' value of 14368.0 (z-score of 7.47363149225)\n",
      "KEAN STEVEN J has high 'to_messages' value of 12754.0 (z-score of 4.13525979734)\n",
      "LAVORATO JOHN J has high 'from_poi_to_this_person' value of 528.0 (z-score of 5.32431220222)\n",
      "LAY KENNETH L has high 'total_payments' value of 103559793.0 (z-score of 10.5954047506)\n",
      "SHAPIRO RICHARD S has high 'to_messages' value of 15149.0 (z-score of 5.06258356331)\n",
      "SKILLING JEFFREY K has high 'salary' value of 1111258.0 (z-score of 4.66982018198)\n",
      "WHITE JR THOMAS E has high 'restricted_stock' value of 13847074.0 (z-score of 5.64486498335)\n"
     ]
    }
   ],
   "source": [
    "#Drop and Re-check\n",
    "df = df.drop('TOTAL')\n",
    "df = df.drop('THE TRAVEL AGENCY IN THE PARK')\n",
    "\n",
    "#Perform a simple check to see which rows have outliers, assuming normal distribution\n",
    "zscores = df.apply(lambda row: (row-df.mean())/df.std(), axis=1)\n",
    "for idx, row in zscores.iterrows():\n",
    "    if max(row) >= 4:\n",
    "        col = row.idxmax()\n",
    "        val = row[row.idxmax()]\n",
    "        print(\"{} has high '{}' value of {} (z-score of {})\".format(idx, col, df[col][idx], val))\n",
    "    if min(row) <= -4:\n",
    "        col = row.idxmin()\n",
    "        val = row[row.idxmin()]\n",
    "        print(\"{} has low '{}' value of {} (z-score of {})\".format(idx, col, df[col][idx], val))"
   ]
  },
  {
   "cell_type": "code",
   "execution_count": 10,
   "metadata": {
    "collapsed": false
   },
   "outputs": [
    {
     "data": {
      "text/plain": [
       "{'bonus': 97343619,\n",
       " 'deferral_payments': 32083396,\n",
       " 'deferred_income': -27992891,\n",
       " 'director_fees': 1398517,\n",
       " 'email_address': 'NaN',\n",
       " 'exercised_stock_options': 311764000,\n",
       " 'expenses': 5235198,\n",
       " 'from_messages': 'NaN',\n",
       " 'from_poi_to_this_person': 'NaN',\n",
       " 'from_this_person_to_poi': 'NaN',\n",
       " 'loan_advances': 83925000,\n",
       " 'long_term_incentive': 48521928,\n",
       " 'other': 42667589,\n",
       " 'poi': False,\n",
       " 'restricted_stock': 130322299,\n",
       " 'restricted_stock_deferred': -7576788,\n",
       " 'salary': 26704229,\n",
       " 'shared_receipt_with_poi': 'NaN',\n",
       " 'to_messages': 'NaN',\n",
       " 'total_payments': 309886585,\n",
       " 'total_stock_value': 434509511}"
      ]
     },
     "execution_count": 10,
     "metadata": {},
     "output_type": "execute_result"
    }
   ],
   "source": [
    "#Remove \"THE TRAVEL AGENCY IN THE PARK\" since it isn't a person\n",
    "data_dict.pop('THE TRAVEL AGENCY IN THE PARK')\n",
    "#Remove \"Total\" row\n",
    "data_dict.pop('TOTAL')"
   ]
  },
  {
   "cell_type": "markdown",
   "metadata": {},
   "source": [
    "# Create New Features"
   ]
  },
  {
   "cell_type": "code",
   "execution_count": 11,
   "metadata": {
    "collapsed": false
   },
   "outputs": [],
   "source": [
    "def fillzero(value):\n",
    "    if value == 'NaN':\n",
    "        return 0\n",
    "    else:\n",
    "        return value\n",
    "\n",
    "for k,v in data_dict.items():\n",
    "    v['from_poi_norm'] = float(v['from_poi_to_this_person'])/float(v['from_messages'])\n",
    "    v['to_poi_norm'] = float(v['from_this_person_to_poi'])/float(v['to_messages'])\n",
    "    v['shared_poi_norm'] = float(v['shared_receipt_with_poi'])/float(v['to_messages'])\n",
    "    v['email_info_available'] = 1 if v['to_messages']!='NaN' else 0\n",
    "    for ff in financial_features:\n",
    "        v[ff+\"_fill0\"] = fillzero(v[ff])"
   ]
  },
  {
   "cell_type": "code",
   "execution_count": 12,
   "metadata": {
    "collapsed": false
   },
   "outputs": [],
   "source": [
    "my_dataset = data_dict"
   ]
  },
  {
   "cell_type": "markdown",
   "metadata": {},
   "source": [
    "# Prep Data"
   ]
  },
  {
   "cell_type": "code",
   "execution_count": 13,
   "metadata": {
    "collapsed": true
   },
   "outputs": [],
   "source": [
    "features_list = ['poi'] + [ff+'_fill0' for ff in financial_features] +\\\n",
    "                ['from_poi_norm', 'to_poi_norm', 'shared_poi_norm', 'email_info_available']"
   ]
  },
  {
   "cell_type": "code",
   "execution_count": 14,
   "metadata": {
    "collapsed": false
   },
   "outputs": [],
   "source": [
    "data = featureFormat(my_dataset, features_list, sort_keys = True)\n",
    "labels, features = targetFeatureSplit(data)"
   ]
  },
  {
   "cell_type": "markdown",
   "metadata": {},
   "source": [
    "# Try multiple classifiers"
   ]
  },
  {
   "cell_type": "markdown",
   "metadata": {},
   "source": [
    "Each classifier pipeline will be optimized using a smaller StratifiedShuffleSplit.\n",
    "The classifier will then be tested with a larger StratifiedShuffleSplit with precision and recall plotted as a boxplot."
   ]
  },
  {
   "cell_type": "markdown",
   "metadata": {},
   "source": [
    "## Cross-Validation Setup"
   ]
  },
  {
   "cell_type": "code",
   "execution_count": 15,
   "metadata": {
    "collapsed": true
   },
   "outputs": [],
   "source": [
    "from sklearn.cross_validation import StratifiedShuffleSplit, cross_val_score\n",
    "sss_fit = StratifiedShuffleSplit(labels, 30, test_size=0.3, random_state=0)\n",
    "sss_test = StratifiedShuffleSplit(labels, 1000, test_size=0.3, random_state=0)\n",
    "\n",
    "import matplotlib.pyplot as plt\n",
    "%matplotlib inline\n",
    "def test_clf(clf):\n",
    "    \"\"\"Test classifier with sss\"\"\"\n",
    "    precision = cross_val_score(clf, features, labels, 'precision', sss_test)\n",
    "    recall = cross_val_score(clf, features, labels, 'recall', sss_test)\n",
    "    mean = lambda a: sum(a)/len(a)\n",
    "    print(\"Mean Precision is {:.4}\".format(mean(precision)))\n",
    "    print(\"Mean Recall is {:.4}\".format(mean(recall)))\n",
    "    plt.boxplot([precision, recall], labels=['Precision', 'Recall'])"
   ]
  },
  {
   "cell_type": "code",
   "execution_count": 16,
   "metadata": {
    "collapsed": true
   },
   "outputs": [],
   "source": [
    "from sklearn.preprocessing import StandardScaler, Imputer\n",
    "from sklearn.feature_selection import SelectKBest\n",
    "from sklearn.pipeline import make_pipeline\n",
    "from sklearn.grid_search import GridSearchCV"
   ]
  },
  {
   "cell_type": "markdown",
   "metadata": {},
   "source": [
    "## Decision Tree"
   ]
  },
  {
   "cell_type": "code",
   "execution_count": 17,
   "metadata": {
    "collapsed": false
   },
   "outputs": [
    {
     "name": "stderr",
     "output_type": "stream",
     "text": [
      "/home/john/miniconda3/envs/python2/lib/python2.7/site-packages/sklearn/metrics/classification.py:958: UndefinedMetricWarning: F-score is ill-defined and being set to 0.0 due to no predicted samples.\n",
      "  'precision', 'predicted', average, warn_for)\n",
      "/home/john/miniconda3/envs/python2/lib/python2.7/site-packages/sklearn/metrics/classification.py:958: UndefinedMetricWarning: Precision is ill-defined and being set to 0.0 due to no predicted samples.\n",
      "  'precision', 'predicted', average, warn_for)\n"
     ]
    },
    {
     "name": "stdout",
     "output_type": "stream",
     "text": [
      "{'decisiontreeclassifier__min_samples_leaf': 3, 'decisiontreeclassifier__min_samples_split': 5}\n",
      "Mean Precision is 0.3209\n",
      "Mean Recall is 0.2663\n",
      "--------------------\n",
      "salary_fill0 = 0.2681\n",
      "deferral_payments_fill0 = 0.1713\n",
      "total_payments_fill0 = 0.1671\n",
      "loan_advances_fill0 = 0.1602\n",
      "bonus_fill0 = 0.1284\n",
      "restricted_stock_deferred_fill0 = 0.05674\n",
      "deferred_income_fill0 = 0.04817\n",
      "total_stock_value_fill0 = 0.0\n",
      "expenses_fill0 = 0.0\n",
      "exercised_stock_options_fill0 = 0.0\n",
      "other_fill0 = 0.0\n",
      "long_term_incentive_fill0 = 0.0\n",
      "restricted_stock_fill0 = 0.0\n",
      "director_fees_fill0 = 0.0\n",
      "from_poi_norm = 0.0\n",
      "to_poi_norm = 0.0\n",
      "shared_poi_norm = 0.0\n",
      "email_info_available = 0.0\n"
     ]
    },
    {
     "data": {
      "image/png": "[encoded data removed]",
      "text/plain": [
       "<matplotlib.figure.Figure at 0x7f3d211adad0>"
      ]
     },
     "metadata": {},
     "output_type": "display_data"
    }
   ],
   "source": [
    "from sklearn.tree import DecisionTreeClassifier\n",
    "parameters = {'decisiontreeclassifier__min_samples_split':range(2,12),\n",
    "              'decisiontreeclassifier__min_samples_leaf':range(1,8)}\n",
    "pipe = make_pipeline(Imputer(), DecisionTreeClassifier())\n",
    "clf = GridSearchCV(pipe, parameters, cv=sss_fit, scoring='f1')\n",
    "clf.fit(features, labels)\n",
    "print(clf.best_params_)\n",
    "\n",
    "clf = clf.best_estimator_\n",
    "test_clf(clf)\n",
    "\n",
    "print('-'*20)\n",
    "selected_features = clf.get_params()['decisiontreeclassifier'].feature_importances_\n",
    "for idx, sf in enumerate(sorted(selected_features, reverse=True)):\n",
    "    print(\"{} = {:.4}\".format(features_list[idx+1], sf))"
   ]
  },
  {
   "cell_type": "markdown",
   "metadata": {},
   "source": [
    "## SVC"
   ]
  },
  {
   "cell_type": "code",
   "execution_count": 18,
   "metadata": {
    "collapsed": false
   },
   "outputs": [
    {
     "name": "stderr",
     "output_type": "stream",
     "text": [
      "[Parallel(n_jobs=1)]: Done   1 jobs       | elapsed:    0.0s\n",
      "[Parallel(n_jobs=1)]: Done  50 jobs       | elapsed:    0.2s\n",
      "[Parallel(n_jobs=1)]: Done 200 jobs       | elapsed:    0.7s\n",
      "[Parallel(n_jobs=1)]: Done 450 jobs       | elapsed:    1.7s\n",
      "[Parallel(n_jobs=1)]: Done 800 jobs       | elapsed:    3.0s\n",
      "[Parallel(n_jobs=1)]: Done 1250 jobs       | elapsed:    4.8s\n",
      "[Parallel(n_jobs=1)]: Done 1800 jobs       | elapsed:    6.9s\n",
      "[Parallel(n_jobs=1)]: Done 2450 jobs       | elapsed:    9.3s\n",
      "[Parallel(n_jobs=1)]: Done 3200 jobs       | elapsed:   12.1s\n",
      "[Parallel(n_jobs=1)]: Done 4050 jobs       | elapsed:   15.3s\n",
      "[Parallel(n_jobs=1)]: Done 5000 jobs       | elapsed:   19.0s\n",
      "[Parallel(n_jobs=1)]: Done 6050 jobs       | elapsed:   23.0s\n",
      "[Parallel(n_jobs=1)]: Done 7200 jobs       | elapsed:   27.5s\n",
      "[Parallel(n_jobs=1)]: Done 8450 jobs       | elapsed:   32.2s\n",
      "[Parallel(n_jobs=1)]: Done 9800 jobs       | elapsed:   37.6s\n",
      "[Parallel(n_jobs=1)]: Done 11250 jobs       | elapsed:   43.5s\n",
      "[Parallel(n_jobs=1)]: Done 12800 jobs       | elapsed:   49.8s\n",
      "[Parallel(n_jobs=1)]: Done 13860 out of 13860 | elapsed:   53.9s finished\n"
     ]
    },
    {
     "name": "stdout",
     "output_type": "stream",
     "text": [
      "Fitting 30 folds for each of 462 candidates, totalling 13860 fits\n",
      "{'svc__gamma': 10, 'selectkbest__k': 3, 'svc__C': 10}\n",
      "Mean Precision is 0.3455\n",
      "Mean Recall is 0.1285\n",
      "['bonus_fill0', 'total_stock_value_fill0', 'exercised_stock_options_fill0']\n"
     ]
    },
    {
     "name": "stderr",
     "output_type": "stream",
     "text": [
      "/home/john/miniconda3/envs/python2/lib/python2.7/site-packages/sklearn/feature_selection/univariate_selection.py:111: UserWarning: Features [3] are constant.\n",
      "  UserWarning)\n"
     ]
    },
    {
     "data": {
      "image/png": "[encoded data removed]",
      "text/plain": [
       "<matplotlib.figure.Figure at 0x7f3d211add90>"
      ]
     },
     "metadata": {},
     "output_type": "display_data"
    }
   ],
   "source": [
    "from sklearn.svm import SVC\n",
    "\n",
    "pipe = make_pipeline(Imputer(), StandardScaler(), SelectKBest(), SVC(kernel='rbf'))\n",
    "parameters = {'selectkbest__k':range(3,14),\n",
    "              'svc__C':[10**n for n in range(-3,3)],\n",
    "              'svc__gamma':[10**n for n in range(-4,3)]\n",
    "             }\n",
    "\n",
    "clf = GridSearchCV(pipe, parameters, cv=sss_fit, verbose=1, scoring='f1')\n",
    "clf.fit(features, labels)\n",
    "print(clf.best_params_)\n",
    "\n",
    "clf = clf.best_estimator_\n",
    "test_clf(clf)\n",
    "\n",
    "selected_features = clf.get_params()['selectkbest'].get_support(indices=True)\n",
    "print([features_list[i+1] for i in selected_features]) #add 1 to ignore 'poi'"
   ]
  },
  {
   "cell_type": "markdown",
   "metadata": {
    "collapsed": true
   },
   "source": [
    "## Gaussian NB"
   ]
  },
  {
   "cell_type": "code",
   "execution_count": 19,
   "metadata": {
    "collapsed": false
   },
   "outputs": [
    {
     "name": "stdout",
     "output_type": "stream",
     "text": [
      "{'selectkbest__k': 7}\n",
      "Mean Precision is 0.405\n",
      "Mean Recall is 0.3145\n",
      "['salary_fill0', 'bonus_fill0', 'deferred_income_fill0', 'total_stock_value_fill0', 'exercised_stock_options_fill0', 'long_term_incentive_fill0', 'restricted_stock_fill0']\n"
     ]
    },
    {
     "data": {
      "image/png": "[encoded data removed]",
      "text/plain": [
       "<matplotlib.figure.Figure at 0x7f3d211ade10>"
      ]
     },
     "metadata": {},
     "output_type": "display_data"
    }
   ],
   "source": [
    "from sklearn.naive_bayes import GaussianNB\n",
    "pipe = make_pipeline(Imputer(), StandardScaler(), SelectKBest(), GaussianNB())\n",
    "parameters = {'selectkbest__k':range(3,14)}\n",
    "\n",
    "clf = GridSearchCV(pipe, parameters, cv=sss_fit)\n",
    "clf.fit(features, labels)\n",
    "print(clf.best_params_)\n",
    "\n",
    "clf = clf.best_estimator_\n",
    "test_clf(clf)\n",
    "\n",
    "selected_features = clf.get_params()['selectkbest'].get_support(indices=True)\n",
    "print([features_list[i+1] for i in selected_features]) #add 1 to ignore 'poi'"
   ]
  }
 ],
 "metadata": {
  "kernelspec": {
   "display_name": "Python 2",
   "language": "python",
   "name": "python2"
  },
  "language_info": {
   "codemirror_mode": {
    "name": "ipython",
    "version": 2
   },
   "file_extension": ".py",
   "mimetype": "text/x-python",
   "name": "python",
   "nbconvert_exporter": "python",
   "pygments_lexer": "ipython2",
   "version": "2.7.10"
  }
 },
 "nbformat": 4,
 "nbformat_minor": 0
}
